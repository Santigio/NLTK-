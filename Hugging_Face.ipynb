{
  "nbformat": 4,
  "nbformat_minor": 0,
  "metadata": {
    "colab": {
      "name": "Hugging Face.ipynb",
      "provenance": [],
      "collapsed_sections": [],
      "authorship_tag": "ABX9TyOSyNzjJDSM+ZQnjsJp8/IC",
      "include_colab_link": true
    },
    "kernelspec": {
      "name": "python3",
      "display_name": "Python 3"
    },
    "language_info": {
      "name": "python"
    }
  },
  "cells": [
    {
      "cell_type": "markdown",
      "metadata": {
        "id": "view-in-github",
        "colab_type": "text"
      },
      "source": [
        "<a href=\"https://colab.research.google.com/github/Santigio/NLTK-/blob/main/Hugging_Face.ipynb\" target=\"_parent\"><img src=\"https://colab.research.google.com/assets/colab-badge.svg\" alt=\"Open In Colab\"/></a>"
      ]
    },
    {
      "cell_type": "markdown",
      "metadata": {
        "id": "zvqCRIUgx8HD"
      },
      "source": [
        "**HUGGING** **FACE**-TRANSFORMERS-SUMMARIZATION"
      ]
    },
    {
      "cell_type": "code",
      "metadata": {
        "id": "UfXAcDilvC2-"
      },
      "source": [
        "!pip install transformers\n"
      ],
      "execution_count": null,
      "outputs": []
    },
    {
      "cell_type": "code",
      "metadata": {
        "id": "u11sB-d8v_-e"
      },
      "source": [
        "\n",
        "from transformers import pipeline"
      ],
      "execution_count": null,
      "outputs": []
    },
    {
      "cell_type": "code",
      "metadata": {
        "id": "HvFU1evYsEcC"
      },
      "source": [
        "summarizer = pipeline(\"summarization\")"
      ],
      "execution_count": null,
      "outputs": []
    },
    {
      "cell_type": "code",
      "metadata": {
        "id": "ZziiytZ-wuIR"
      },
      "source": [
        "Email = \"\"\"Please use attached documentation for wikipedia creation\n",
        "---------- Forwarded message ---------\n",
        "From: mamadu jalloh <mamadujalloh0@gmail.com>\n",
        "Date: Thu, Nov 6, 2014 at 2:42 AM\n",
        "Subject: Fwd:\n",
        "To: <gABe@westafricanmedicalmissions.org>\n",
        "\n",
        "\n",
        "---------- Forwarded message ----------\n",
        "From: \"Valle, Carmen\" <Carmen.Valle@cbm.org>\n",
        "Date: Thu, 6 Nov 2014 06:29:36 +0000\n",
        "Subject: RE:\n",
        "To: mamadu jalloh <mamadujalloh0@gmail.com>\n",
        "\n",
        "Dear Mamadu,\n",
        "\n",
        "Today, Thursday, at 16:00 Sierra Leone time, it's perfect for me.\n",
        "\n",
        "I'm attaching the final and approved packet (including proposal, log\n",
        "frame, budget and multiannual cost plan) so we can all look at it\n",
        "while we talk and plan.\n",
        "\n",
        "Talk to you later, then!\n",
        "\n",
        "Best,\n",
        "Carmen\n",
        "\n",
        "Dr. Carmen Valle\n",
        "Project Coordinator & Mental Health Specialist\n",
        "Enabling Access to Mental Health Programme\n",
        "\n",
        "Project Coordination Office\n",
        "Bass Street 3\n",
        "Brookfields, Freetown\n",
        "Sierra Leone\n",
        "+232(0)76 762731\n",
        "\n",
        "\n",
        "\n",
        "\n",
        "-----Original Message-----\n",
        "From: mamadu jalloh [mailto:mamadujalloh0@gmail.com]\n",
        "Sent: 05 November 2014 21:52\n",
        "To: Valle, Carmen\n",
        "Subject:\n",
        "\n",
        "--\n",
        "Insha ALLAH\n",
        "\n",
        "Mamadu Jalloh\n",
        "Mental Health Lead\n",
        "West African Medical missions\n",
        "+23299479363\n",
        "\n",
        "\n",
        "\n",
        "--\n",
        "Insha ALLAH\n",
        "\n",
        "Mamadu Jalloh\n",
        "Mental Health Lead\n",
        "West African Medical missions\n",
        "+23299479363\n",
        "\n",
        "\n",
        "--\n",
        "Gabriel\n",
        "+1-469-993-5553\n",
        "WAMMinc Unreasonable Visionary\n",
        "West African Medical Missions Inc<http://www.westafricanmedicalmissions.org> \"\"\""
      ],
      "execution_count": null,
      "outputs": []
    },
    {
      "cell_type": "code",
      "metadata": {
        "colab": {
          "base_uri": "https://localhost:8080/"
        },
        "id": "-PZbDDR9uVFk",
        "outputId": "a667a305-993a-4789-9d02-471372f98e93"
      },
      "source": [
        "summarizer(Email, max_length=130, min_length=30, do_sample=False)"
      ],
      "execution_count": null,
      "outputs": [
        {
          "output_type": "execute_result",
          "data": {
            "text/plain": [
              "[{'summary_text': ' The final and approved packet (including proposal, logframe, budget and multiannual cost plan) is attached . Please use attached documentation for wikipedia creation .'}]"
            ]
          },
          "metadata": {
            "tags": []
          },
          "execution_count": 8
        }
      ]
    },
    {
      "cell_type": "markdown",
      "metadata": {
        "id": "7ettN2CVx1PF"
      },
      "source": [
        ""
      ]
    }
  ]
}