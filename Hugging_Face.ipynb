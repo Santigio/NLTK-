{
  "nbformat": 4,
  "nbformat_minor": 0,
  "metadata": {
    "colab": {
      "name": "Hugging Face.ipynb",
      "provenance": [],
      "collapsed_sections": [],
      "authorship_tag": "ABX9TyP9T1MY8u8j+HnMEiCopKXI",
      "include_colab_link": true
    },
    "kernelspec": {
      "name": "python3",
      "display_name": "Python 3"
    },
    "language_info": {
      "name": "python"
    }
  },
  "cells": [
    {
      "cell_type": "markdown",
      "metadata": {
        "id": "view-in-github",
        "colab_type": "text"
      },
      "source": [
        "<a href=\"https://colab.research.google.com/github/Santigio/NLTK-/blob/main/Hugging_Face.ipynb\" target=\"_parent\"><img src=\"https://colab.research.google.com/assets/colab-badge.svg\" alt=\"Open In Colab\"/></a>"
      ]
    },
    {
      "cell_type": "markdown",
      "metadata": {
        "id": "zvqCRIUgx8HD"
      },
      "source": [
        "**HUGGING** **FACE**-TRANSFORMERS-SUMMARIZATION"
      ]
    },
    {
      "cell_type": "code",
      "metadata": {
        "id": "UfXAcDilvC2-"
      },
      "source": [
        "!pip install transformers\n"
      ],
      "execution_count": null,
      "outputs": []
    },
    {
      "cell_type": "code",
      "metadata": {
        "id": "u11sB-d8v_-e"
      },
      "source": [
        "\n",
        "from transformers import pipeline"
      ],
      "execution_count": null,
      "outputs": []
    },
    {
      "cell_type": "code",
      "metadata": {
        "id": "HvFU1evYsEcC"
      },
      "source": [
        "summarizer = pipeline(\"summarization\")"
      ],
      "execution_count": null,
      "outputs": []
    },
    {
      "cell_type": "code",
      "metadata": {
        "id": "ZziiytZ-wuIR"
      },
      "source": [
        "Email = \"\"\"NFT stands for non-fungible token.\n",
        "\n",
        "In economics, a fungible asset is something with units that can be readily interchanged - like money.\n",
        "\n",
        "With money, you can swap a £10 note for two £5 notes and it will have the same value.\n",
        "\n",
        "However, if something is non-fungible, this is impossible - it means it has unique properties so it cannot be interchanged with something else.\n",
        "\n",
        "It could be a house, or a painting such as the Mona Lisa, which is one of a kind. You can take a photo of the painting or buy a print but there will only ever be the one original painting.\n",
        "\n",
        "NFTs are \"one-of-a-kind\" assets in the digital world that can be bought and sold like any other piece of property, but they have no tangible form of their own.\n",
        "\n",
        "The digital tokens can be thought of as certificates of ownership for virtual or physical assets. \"\"\""
      ],
      "execution_count": 9,
      "outputs": []
    },
    {
      "cell_type": "code",
      "metadata": {
        "colab": {
          "base_uri": "https://localhost:8080/"
        },
        "id": "-PZbDDR9uVFk",
        "outputId": "0e36a418-3bff-4b9c-b7a0-2241436dec9e"
      },
      "source": [
        "summarizer(Email, max_length=130, min_length=30, do_sample=False)"
      ],
      "execution_count": 10,
      "outputs": [
        {
          "output_type": "execute_result",
          "data": {
            "text/plain": [
              "[{'summary_text': \" NFT stands for non-fungible tokens . NFTs are 'one-of-a-kind' assets in the digital world that can be bought and sold . Digital tokens are certificates of ownership for virtual or physical assets .\"}]"
            ]
          },
          "metadata": {
            "tags": []
          },
          "execution_count": 10
        }
      ]
    },
    {
      "cell_type": "markdown",
      "metadata": {
        "id": "7ettN2CVx1PF"
      },
      "source": [
        ""
      ]
    }
  ]
}